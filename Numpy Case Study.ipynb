{
 "cells": [
  {
   "cell_type": "code",
   "execution_count": 6,
   "id": "3de0715f",
   "metadata": {},
   "outputs": [
    {
     "name": "stdout",
     "output_type": "stream",
     "text": [
      "[1 2 3 4 5]\n",
      "[[1 2 3]\n",
      " [4 5 6]]\n",
      "[[0. 0. 0. 0.]\n",
      " [0. 0. 0. 0.]\n",
      " [0. 0. 0. 0.]]\n",
      "[[1. 1.]\n",
      " [1. 1.]]\n"
     ]
    }
   ],
   "source": [
    "import numpy as np\n",
    "a = np.array([1, 2, 3, 4, 5]) \n",
    "print(a)\n",
    "\n",
    "b = np.array([[1, 2, 3], [4, 5, 6]]) \n",
    "print (b)\n",
    "\n",
    "c = np.zeros((3, 4))\n",
    "print(c)\n",
    "\n",
    "d = np.ones((2,2))\n",
    "print(d)\n"
   ]
  },
  {
   "cell_type": "code",
   "execution_count": 7,
   "id": "95c25b1a",
   "metadata": {},
   "outputs": [
    {
     "name": "stdout",
     "output_type": "stream",
     "text": [
      "[[ 6  8]\n",
      " [10 12]]\n",
      "[[ 5 12]\n",
      " [21 32]]\n",
      "[[19 22]\n",
      " [43 50]]\n"
     ]
    }
   ],
   "source": [
    "a=np.array([[1,2],[3,4]])\n",
    "b=np.array([[5,6],[7,8]])\n",
    "c=a+b\n",
    "print(c)\n",
    "\n",
    "d=np.array([[1,2],[3,4]])\n",
    "e=np.array([[5,6],[7,8]])\n",
    "f=d*e\n",
    "print(f)\n",
    "\n",
    "g=np.array([[1,2],[3,4]])\n",
    "h=np.array([[5,6],[7,8]])\n",
    "i=np.dot(g,h)\n",
    "print(i)\n",
    "\n"
   ]
  },
  {
   "cell_type": "code",
   "execution_count": null,
   "id": "77d64228",
   "metadata": {},
   "outputs": [],
   "source": []
  }
 ],
 "metadata": {
  "kernelspec": {
   "display_name": "Python 3 (ipykernel)",
   "language": "python",
   "name": "python3"
  },
  "language_info": {
   "codemirror_mode": {
    "name": "ipython",
    "version": 3
   },
   "file_extension": ".py",
   "mimetype": "text/x-python",
   "name": "python",
   "nbconvert_exporter": "python",
   "pygments_lexer": "ipython3",
   "version": "3.10.4"
  }
 },
 "nbformat": 4,
 "nbformat_minor": 5
}
